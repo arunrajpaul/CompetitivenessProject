{
 "cells": [
  {
   "cell_type": "code",
   "execution_count": 10,
   "id": "d1f445ef",
   "metadata": {},
   "outputs": [
    {
     "data": {
      "text/plain": [
       "(1.4092105263157895, 1.1927323410699369)"
      ]
     },
     "execution_count": 10,
     "metadata": {},
     "output_type": "execute_result"
    }
   ],
   "source": [
    "import pandas as pd\n",
    "\n",
    "# Let's read the newly uploaded CSV file to see what the data looks like\n",
    "file_path_one_season = 'Result_Premier_2223.csv'\n",
    "df = pd.read_csv(file_path_one_season)\n",
    "\n",
    "# Display the first few rows of the DataFrame\n",
    "df.head()\n",
    "\n",
    "import numpy as np\n",
    "\n",
    "# Function to extract home and away goals from the match result string \"a~b\"\n",
    "def extract_goals(result):\n",
    "    if pd.isna(result):\n",
    "        return np.nan, np.nan\n",
    "    home_goal, away_goal = map(int, result.split(\"~\"))\n",
    "    return home_goal, away_goal\n",
    "\n",
    "# Initialize lists to store the goals\n",
    "home_goals = []\n",
    "away_goals = []\n",
    "\n",
    "# Loop through each row and column to extract home and away goals\n",
    "for i in range(df.shape[0]):\n",
    "    for j in range(1, df.shape[1]):  # Starting from 1 to skip the \"Home \\ Away\" column\n",
    "        home_goal, away_goal = extract_goals(df.iloc[i, j])\n",
    "        if np.isnan(home_goal) or np.isnan(away_goal):\n",
    "            continue\n",
    "        home_goals.append(home_goal)\n",
    "        away_goals.append(away_goal)\n",
    "\n",
    "# Calculate the overall mean number of goals (lambda_hat)\n",
    "total_goals = home_goals + away_goals\n",
    "lambda_hat = np.mean(total_goals)\n",
    "\n",
    "# Calculate GBI using the formula\n",
    "N = len(home_goals)  # Total number of matches\n",
    "GBI = (1 / ((2 * N - 1) * lambda_hat)) * np.sum(np.square(np.array(total_goals) - lambda_hat))\n",
    "\n",
    "lambda_hat, GBI\n",
    "\n",
    "\n"
   ]
  },
  {
   "cell_type": "code",
   "execution_count": 30,
   "id": "dbaf746d",
   "metadata": {},
   "outputs": [
    {
     "name": "stdout",
     "output_type": "stream",
     "text": [
      "1.1110119055671446\n"
     ]
    }
   ],
   "source": [
    "import pandas as pd\n",
    "import numpy as np\n",
    "\n",
    "# Function to extract home and away goals from the match result string \"a~b\"\n",
    "def extract_goals(result):\n",
    "    if pd.isna(result):\n",
    "        return np.nan, np.nan\n",
    "    home_goal, away_goal = map(int, result.split(\"~\"))\n",
    "    return home_goal, away_goal\n",
    "\n",
    "def compute_hicb_with_adjusted_mapping(df):\n",
    "    # Initialize a dictionary to store points for each team\n",
    "    points = {team: 0 for team in df['Home \\\\ Away']}\n",
    "    \n",
    "    # Create a mapping of full team names to abbreviations (adjusted for whitespace)\n",
    "    team_mapping_adjusted = dict(zip(df['Home \\\\ Away'].str.strip(), [col.strip() for col in df.columns[1:]]))\n",
    "    \n",
    "    # Loop through each row and column to calculate points\n",
    "    for i in range(df.shape[0]):\n",
    "        home_team = df.iloc[i, 0].strip()\n",
    "        for j in range(1, df.shape[1]):\n",
    "            away_team_abbrev = df.columns[j].strip()\n",
    "            away_team = [key for key, value in team_mapping_adjusted.items() if value == away_team_abbrev][0]\n",
    "            \n",
    "            home_goal, away_goal = extract_goals(df.iloc[i, j])\n",
    "            \n",
    "            # Check for NaN values and continue if found\n",
    "            if np.isnan(home_goal) or np.isnan(away_goal):\n",
    "                continue\n",
    "            \n",
    "            # Assign points based on match results\n",
    "            if home_goal > away_goal:  # Home win\n",
    "                points[home_team] += 3\n",
    "            elif home_goal < away_goal:  # Away win\n",
    "                points[away_team] += 3\n",
    "            else:  # Draw\n",
    "                points[home_team] += 1\n",
    "                points[away_team] += 1\n",
    "    \n",
    "    # Calculate the total points in the league\n",
    "    total_points = sum(points.values())\n",
    "    \n",
    "    # Calculate the HICB\n",
    "    n = len(points)\n",
    "    Pi = [p / total_points for p in points.values()]\n",
    "    HICB = n * sum([p**2 for p in Pi])\n",
    "    \n",
    "    return HICB\n",
    "\n",
    "# Read the CSV file\n",
    "df = pd.read_csv('Result_Premier_2223.csv')\n",
    "\n",
    "# Compute HICB using the data with the adjusted mapping\n",
    "hicb_value = compute_hicb_with_adjusted_mapping(df)\n",
    "print(hicb_value)\n"
   ]
  },
  {
   "cell_type": "code",
   "execution_count": null,
   "id": "b235b340",
   "metadata": {},
   "outputs": [],
   "source": []
  }
 ],
 "metadata": {
  "kernelspec": {
   "display_name": "Python 3 (ipykernel)",
   "language": "python",
   "name": "python3"
  },
  "language_info": {
   "codemirror_mode": {
    "name": "ipython",
    "version": 3
   },
   "file_extension": ".py",
   "mimetype": "text/x-python",
   "name": "python",
   "nbconvert_exporter": "python",
   "pygments_lexer": "ipython3",
   "version": "3.10.12"
  }
 },
 "nbformat": 4,
 "nbformat_minor": 5
}
